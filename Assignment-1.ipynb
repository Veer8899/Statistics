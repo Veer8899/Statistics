{
 "cells": [
  {
   "cell_type": "markdown",
   "id": "326548fe-e238-42b9-af02-1cb8717852bb",
   "metadata": {},
   "source": [
    "## Q1. What is Statistics?"
   ]
  },
  {
   "cell_type": "markdown",
   "id": "3e2a3a88-1c9e-4cb6-9e27-c68350788182",
   "metadata": {},
   "source": [
    "#### Statistics is the science of collecting, organizing, interpretation, presentation, and analysing data."
   ]
  },
  {
   "cell_type": "markdown",
   "id": "83b95a8b-c29e-4281-b680-5748e4adefcf",
   "metadata": {},
   "source": [
    "## Q2. Define the different types of statistics and give an example of when each type might be used."
   ]
  },
  {
   "cell_type": "markdown",
   "id": "1c6ca8c2-229f-4661-b78e-21d093312666",
   "metadata": {},
   "source": [
    "# There are two type of statistics and they are:\n",
    "### 1. Discreptive Staistics :- It consists of organizing, summarizing data and presenting data in a meaningful and interpretable manner. \n",
    "### Example: Exam Scores in a Class\n",
    "#### Suppose you are a teacher and want to understand the performance of your students on a recent exam. You have collected the scores of 30 students, ranging from 0 to 100. In this scenario, you can use descriptive statistics to summarize and describe the exam scores.\n",
    "### For this we can use:\n",
    "#### >> Measures of Central Tendency: Mean, Median, Mode to determine the average score and the typical score achieved by students. \n",
    "#### >> Measures of Dispersion: To understand the spread or variability of the scores, we can calculate measures such as the range, variance, and standard deviation of the score achieved by the students.\n",
    "#### >> Different Type of Distribution of Data >> We  can create a histogram or a bar chart to visually represent the distribution of exam scores and observe the data. \n",
    "### 2. Inferential Statistics :- It consists of using data you have measured to form conclusion.\n",
    "####  Let's consider the same example of exam scores in a class. \n",
    "#### Inferential statistics can be used in this scenario to draw conclusions about the performance of the entire class based on the collected sample data of 30 students.\n",
    "### For this we can use:\n",
    "#### >> Confidence Intervals: By calculating a confidence interval, we can estimate the range within which the average exam score for the entire class is likely to fall. \n",
    "#### >> Hypothesis Testing: By conducting a hypothesis test, such as a one-sample t-test, we can evaluate the evidence and determine if class's performance is significantly different from the reference population.\n",
    "#### >> Comparison of Subgroups: If we have collected additional information about students, such as their gender or study habits, inferential statistics can be employed to compare the performance of different subgroups. \n",
    "#### >> Predictive Analytics: Using inferential statistics, we can develop predictive models to forecast future exam scores or academic performance based on various factors. "
   ]
  },
  {
   "cell_type": "markdown",
   "id": "87320ebd-c979-42c9-a337-5c0f9ca4a03c",
   "metadata": {},
   "source": [
    "## Q3. What are the different types of data and how do they differ from each other? Provide an example of each type of data."
   ]
  },
  {
   "cell_type": "markdown",
   "id": "0125a049-3fb1-4fef-b934-bef735be4582",
   "metadata": {},
   "source": [
    "### There are two types of data and they are: "
   ]
  },
  {
   "cell_type": "markdown",
   "id": "a8838098-1b6d-434d-bf81-7c88aad39431",
   "metadata": {},
   "source": [
    "### Qntitative: This is a numerical data and in this we can able to perform different mathematical operations. It divided into two types:\n",
    "#### >> Discrete or Interval Data: Interval data have ordered categories with equal intervals between them. They do not have a true zero point, and the value of zero does not indicate the absence of the attribute being measured. Examples of interval data include:\n",
    "#### For example:\n",
    "#### Years (e.g., 2000, 2010, 2020)\n",
    "#### IQ scores\n",
    "#### >> Continuous or Ratio Data: Ratio data have ordered categories with equal intervals and a true zero point that indicates the absence of the attribute being measured. Ratio data have all the properties of interval data but also allow for meaningful multiplication and division. \n",
    "#### For example:\n",
    "#### Height, Weights, Temperature, Speed\n",
    "### Qualitative: This is a categorical data and in this we get fixed number of categories and it does not contain any numerical data value. It divided into two types:\n",
    "\n",
    "### >> Nominal Data: Nominal data represent categories or labels that do not have a natural order(range) or numerical value. Each category is distinct and does not convey any quantitative information. \n",
    "#### Examples: Gender, Marital Status, Eye Color.\n",
    "### >> Ordinal Data: Ordinal data have categories that have a natural order or ranking. The categories represent different levels or preferences, but the intervals between them may not be equal. \n",
    "#### Examples: Educational Level, Rating Scales: Excellent, Good, Average, Poor. "
   ]
  },
  {
   "cell_type": "markdown",
   "id": "b489c8fc-7327-4db9-90d4-b26c72e45ff5",
   "metadata": {},
   "source": [
    "## Q4. Categorise the following datasets with respect to quantitative and qualitative data types:\n",
    "### (i) Grading in exam: A+, A, B+, B, C+, C, D, E ->> Ordinal Data\n",
    "### (ii) Colour of mangoes: yellow, green, orange, red ->> Nominal Data\n",
    "### (iii) Height data of a class: [178.9, 179, 179.5, 176, 177.2, 178.3, 175.8,...] ->> Continuous or Ratio Data\n",
    "### (iv) Number of mangoes exported by a farm: [500, 600, 478, 672, ...] ->> Discrete or Interval Data"
   ]
  },
  {
   "cell_type": "markdown",
   "id": "549f85dc-32bb-43ce-9bd7-2e3a0ea8252a",
   "metadata": {},
   "source": [
    "## Q5. Explain the concept of levels of measurement and give an example of a variable for each level."
   ]
  },
  {
   "cell_type": "markdown",
   "id": "8a638906-9b1f-4c72-a34f-082e3549e046",
   "metadata": {},
   "source": [
    "#### >> Discrete or Interval Level of Measurement: Interval data have ordered categories with equal intervals between them. They do not have a true zero point, and the value of zero does not indicate the absence of the attribute being measured. Examples of interval data include:\n",
    "#### For example:\n",
    "#### Years (e.g., 2000, 2010, 2020)\n",
    "#### IQ scores\n",
    "#### >> Continuous or Ratio Level of Measurement: Ratio data have ordered categories with equal intervals and a true zero point that indicates the absence of the attribute being measured. Ratio data have all the properties of interval data but also allow for meaningful multiplication and division. \n",
    "#### For example:\n",
    "#### Height, Weights, Temperature, Speed\n",
    "### >> Nominal Level of Measurement: Nominal data represent categories or labels that do not have a natural order(range) or numerical value. Each category is distinct and does not convey any quantitative information. \n",
    "#### Examples: Gender, Marital Status, Eye Color.\n",
    "### >> Ordinal Level of Measurement: Ordinal data have categories that have a natural order or ranking. The categories represent different levels or preferences, but the intervals between them may not be equal. \n",
    "#### Examples: Educational Level, Rating Scales: Excellent, Good, Average, Poor. "
   ]
  },
  {
   "cell_type": "markdown",
   "id": "e654eb8a-ba22-4b42-8b2e-584ea7ae33c6",
   "metadata": {},
   "source": [
    "## Q6. Why is it important to understand the level of measurement when analyzing data? Provide an example to illustrate your answer."
   ]
  },
  {
   "cell_type": "markdown",
   "id": "64778386-59fb-4249-84d8-1ab065890414",
   "metadata": {},
   "source": [
    "#### Understanding the level of measurement is crucial when analyzing data because it determines the appropriate statistical techniques, operations, and interpretations that can be applied to the data. It helps ensure that the analysis is accurate, meaningful, and aligned with the nature of the data being analyzed. Here's an example to illustrate the importance of understanding the level of measurement:\n",
    "\n",
    "### Example: Analyzing Customer Satisfaction Levels\n",
    "#### Suppose a company conducts a customer satisfaction survey and collects data on a variety of variables, including age, satisfaction rating, number of purchases, and income level. To analyze the data effectively, it is essential to consider the level of measurement for each variable."
   ]
  },
  {
   "cell_type": "markdown",
   "id": "900c50bb-cf75-45ab-8e16-ac39e3fd1b79",
   "metadata": {},
   "source": [
    "## Q7. How nominal data type is different from ordinal data type."
   ]
  },
  {
   "cell_type": "markdown",
   "id": "6f97690d-2c3f-4b49-81ba-48f529f52123",
   "metadata": {},
   "source": [
    "### >> Nominal Data: Nominal data represent categories or labels that do not have a natural order(range) or numerical value. Each category is distinct and does not convey any quantitative information. \n",
    "#### Examples: Gender, Marital Status, Eye Color.\n",
    "### >> Ordinal Data: Ordinal data have categories that have a natural order or ranking. The categories represent different levels or preferences, but the intervals between them may not be equal. \n",
    "#### Examples: Educational Level, Rating Scales: Excellent, Good, Average, Poor. "
   ]
  },
  {
   "cell_type": "markdown",
   "id": "1369a3ed-8ad3-44c5-a2af-6a0252bd7205",
   "metadata": {},
   "source": [
    "## Q8. Which type of plot can be used to display data in terms of range?\n",
    "#### >>A box plot, also known as a box-and-whisker plot, is commonly used to display data in terms of range."
   ]
  },
  {
   "cell_type": "markdown",
   "id": "e459b7b7-3571-453f-81a7-b856f03fdc4b",
   "metadata": {},
   "source": [
    "## Q9. Describe the difference between descriptive and inferential statistics. Give an example of each type of statistics and explain how they are used.\n",
    "\n",
    "### 1. Discreptive Staistics :- It consists of organizing, summarizing data and presenting data in a meaningful and interpretable manner. \n",
    "### Example: Exam Scores in a Class\n",
    "#### Suppose you are a teacher and want to understand the performance of your students on a recent exam. You have collected the scores of 30 students, ranging from 0 to 100. In this scenario, you can use descriptive statistics to summarize and describe the exam scores.\n",
    "### For this we can use:\n",
    "#### >> Measures of Central Tendency: Mean, Median, Mode to determine the average score and the typical score achieved by students. \n",
    "#### >> Measures of Dispersion: To understand the spread or variability of the scores, we can calculate measures such as the range, variance, and standard deviation of the score achieved by the students.\n",
    "#### >> Different Type of Distribution of Data >> We  can create a histogram or a bar chart to visually represent the distribution of exam scores and observe the data. \n",
    "### 2. Inferential Statistics :- It consists of using data you have measured to form conclusion.\n",
    "####  Let's consider the same example of exam scores in a class. \n",
    "#### Inferential statistics can be used in this scenario to draw conclusions about the performance of the entire class based on the collected sample data of 30 students.\n",
    "### For this we can use:\n",
    "#### >> Confidence Intervals: By calculating a confidence interval, we can estimate the range within which the average exam score for the entire class is likely to fall. \n",
    "#### >> Hypothesis Testing: By conducting a hypothesis test, such as a one-sample t-test, we can evaluate the evidence and determine if class's performance is significantly different from the reference population.\n",
    "#### >> Comparison of Subgroups: If we have collected additional information about students, such as their gender or study habits, inferential statistics can be employed to compare the performance of different subgroups. \n",
    "#### >> Predictive Analytics: Using inferential statistics, we can develop predictive models to forecast future exam scores or academic performance based on various factors. "
   ]
  },
  {
   "cell_type": "code",
   "execution_count": null,
   "id": "a6ef4a67-d835-4ea7-b0ee-7c3dc144c97c",
   "metadata": {},
   "outputs": [],
   "source": []
  }
 ],
 "metadata": {
  "kernelspec": {
   "display_name": "Python 3 (ipykernel)",
   "language": "python",
   "name": "python3"
  },
  "language_info": {
   "codemirror_mode": {
    "name": "ipython",
    "version": 3
   },
   "file_extension": ".py",
   "mimetype": "text/x-python",
   "name": "python",
   "nbconvert_exporter": "python",
   "pygments_lexer": "ipython3",
   "version": "3.10.8"
  }
 },
 "nbformat": 4,
 "nbformat_minor": 5
}

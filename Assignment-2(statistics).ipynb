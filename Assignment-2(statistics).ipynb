{
 "cells": [
  {
   "cell_type": "markdown",
   "id": "2c826e11-bebd-43b1-bc50-ff4e3006d383",
   "metadata": {},
   "source": [
    "## Q1. What are the three measures of central tendency?\n",
    "#### Mean\n",
    "#### Median\n",
    "#### Mode"
   ]
  },
  {
   "cell_type": "markdown",
   "id": "5acc65fc-b25f-45b7-853a-8fce8d19bac0",
   "metadata": {},
   "source": [
    "## Q2. What is the difference between the mean, median, and mode? How are they used to measure the central tendency of a dataset?\n",
    "#### Mean: The mean is also known as the average and is calculated by adding up all the values in the dataset and dividing the sum by the total number of values. It is sensitive to extreme values and can be affected by outliers. To calculate the mean, we sum up all the values and divide by the number of values in the dataset. The mean is commonly used when the data is normally distributed or approximately symmetric.\n",
    "\n",
    "#### Median: The median is the middle value in a dataset when the values are arranged in ascending or descending order. If the dataset has an odd number of values, the median is the middle value. If the dataset has an even number of values, the median is the average of the two middle values. The median is not affected by extreme values or outliers, making it a robust measure of central tendency. It is often used when the data contains outliers or is skewed.\n",
    "\n",
    "#### Mode: The mode is the value or values that occur most frequently in a dataset. In other words, it represents the most common observation. A dataset can have no mode if no value appears more than once, or it can have multiple modes if multiple values have the same highest frequency. The mode is useful for categorical or discrete data, but it can also be used with continuous data."
   ]
  },
  {
   "cell_type": "markdown",
   "id": "ec072d65-6b96-48c6-8823-aaca6042d727",
   "metadata": {},
   "source": [
    "## Q3. Measure the three measures of central tendency for the given height data: [178,177,176,177,178.2,178,175,179,180,175,178.9,176.2,177,172.5,178,176.5]"
   ]
  },
  {
   "cell_type": "code",
   "execution_count": 8,
   "id": "1413f2ff-8781-4daa-8888-fa68d56fd730",
   "metadata": {},
   "outputs": [],
   "source": [
    "import pandas as pd"
   ]
  },
  {
   "cell_type": "code",
   "execution_count": 9,
   "id": "0d2e3357-f5fd-4d31-b741-15fe897f459c",
   "metadata": {},
   "outputs": [],
   "source": [
    "data = pd.DataFrame([178, 177, 176, 177, 178.2, 178, 175, 179, 180, 175, 178.9, 176.2, 177, 172.5, 178, 176.5])"
   ]
  },
  {
   "cell_type": "code",
   "execution_count": 10,
   "id": "515e6757-daa7-4f45-80a7-f8bb5803ef57",
   "metadata": {},
   "outputs": [
    {
     "data": {
      "text/html": [
       "<div>\n",
       "<style scoped>\n",
       "    .dataframe tbody tr th:only-of-type {\n",
       "        vertical-align: middle;\n",
       "    }\n",
       "\n",
       "    .dataframe tbody tr th {\n",
       "        vertical-align: top;\n",
       "    }\n",
       "\n",
       "    .dataframe thead th {\n",
       "        text-align: right;\n",
       "    }\n",
       "</style>\n",
       "<table border=\"1\" class=\"dataframe\">\n",
       "  <thead>\n",
       "    <tr style=\"text-align: right;\">\n",
       "      <th></th>\n",
       "      <th>0</th>\n",
       "    </tr>\n",
       "  </thead>\n",
       "  <tbody>\n",
       "    <tr>\n",
       "      <th>0</th>\n",
       "      <td>178.0</td>\n",
       "    </tr>\n",
       "    <tr>\n",
       "      <th>1</th>\n",
       "      <td>177.0</td>\n",
       "    </tr>\n",
       "    <tr>\n",
       "      <th>2</th>\n",
       "      <td>176.0</td>\n",
       "    </tr>\n",
       "    <tr>\n",
       "      <th>3</th>\n",
       "      <td>177.0</td>\n",
       "    </tr>\n",
       "    <tr>\n",
       "      <th>4</th>\n",
       "      <td>178.2</td>\n",
       "    </tr>\n",
       "    <tr>\n",
       "      <th>5</th>\n",
       "      <td>178.0</td>\n",
       "    </tr>\n",
       "    <tr>\n",
       "      <th>6</th>\n",
       "      <td>175.0</td>\n",
       "    </tr>\n",
       "    <tr>\n",
       "      <th>7</th>\n",
       "      <td>179.0</td>\n",
       "    </tr>\n",
       "    <tr>\n",
       "      <th>8</th>\n",
       "      <td>180.0</td>\n",
       "    </tr>\n",
       "    <tr>\n",
       "      <th>9</th>\n",
       "      <td>175.0</td>\n",
       "    </tr>\n",
       "    <tr>\n",
       "      <th>10</th>\n",
       "      <td>178.9</td>\n",
       "    </tr>\n",
       "    <tr>\n",
       "      <th>11</th>\n",
       "      <td>176.2</td>\n",
       "    </tr>\n",
       "    <tr>\n",
       "      <th>12</th>\n",
       "      <td>177.0</td>\n",
       "    </tr>\n",
       "    <tr>\n",
       "      <th>13</th>\n",
       "      <td>172.5</td>\n",
       "    </tr>\n",
       "    <tr>\n",
       "      <th>14</th>\n",
       "      <td>178.0</td>\n",
       "    </tr>\n",
       "    <tr>\n",
       "      <th>15</th>\n",
       "      <td>176.5</td>\n",
       "    </tr>\n",
       "  </tbody>\n",
       "</table>\n",
       "</div>"
      ],
      "text/plain": [
       "        0\n",
       "0   178.0\n",
       "1   177.0\n",
       "2   176.0\n",
       "3   177.0\n",
       "4   178.2\n",
       "5   178.0\n",
       "6   175.0\n",
       "7   179.0\n",
       "8   180.0\n",
       "9   175.0\n",
       "10  178.9\n",
       "11  176.2\n",
       "12  177.0\n",
       "13  172.5\n",
       "14  178.0\n",
       "15  176.5"
      ]
     },
     "execution_count": 10,
     "metadata": {},
     "output_type": "execute_result"
    }
   ],
   "source": [
    "data"
   ]
  },
  {
   "cell_type": "code",
   "execution_count": 14,
   "id": "c23a20a6-45f3-4e39-a052-d252057f8b7b",
   "metadata": {},
   "outputs": [
    {
     "data": {
      "text/plain": [
       "0    177.01875\n",
       "dtype: float64"
      ]
     },
     "execution_count": 14,
     "metadata": {},
     "output_type": "execute_result"
    }
   ],
   "source": [
    "data.mean()"
   ]
  },
  {
   "cell_type": "code",
   "execution_count": 15,
   "id": "1151217c-c430-4c43-9f4f-f7ae8917e01c",
   "metadata": {},
   "outputs": [
    {
     "data": {
      "text/plain": [
       "0    177.0\n",
       "dtype: float64"
      ]
     },
     "execution_count": 15,
     "metadata": {},
     "output_type": "execute_result"
    }
   ],
   "source": [
    "data.median()"
   ]
  },
  {
   "cell_type": "code",
   "execution_count": 18,
   "id": "25f607d1-cfd7-4881-8381-fe5df7a9588f",
   "metadata": {},
   "outputs": [
    {
     "data": {
      "text/html": [
       "<div>\n",
       "<style scoped>\n",
       "    .dataframe tbody tr th:only-of-type {\n",
       "        vertical-align: middle;\n",
       "    }\n",
       "\n",
       "    .dataframe tbody tr th {\n",
       "        vertical-align: top;\n",
       "    }\n",
       "\n",
       "    .dataframe thead th {\n",
       "        text-align: right;\n",
       "    }\n",
       "</style>\n",
       "<table border=\"1\" class=\"dataframe\">\n",
       "  <thead>\n",
       "    <tr style=\"text-align: right;\">\n",
       "      <th></th>\n",
       "      <th>0</th>\n",
       "    </tr>\n",
       "  </thead>\n",
       "  <tbody>\n",
       "    <tr>\n",
       "      <th>0</th>\n",
       "      <td>177.0</td>\n",
       "    </tr>\n",
       "    <tr>\n",
       "      <th>1</th>\n",
       "      <td>178.0</td>\n",
       "    </tr>\n",
       "  </tbody>\n",
       "</table>\n",
       "</div>"
      ],
      "text/plain": [
       "       0\n",
       "0  177.0\n",
       "1  178.0"
      ]
     },
     "execution_count": 18,
     "metadata": {},
     "output_type": "execute_result"
    }
   ],
   "source": [
    "data.mode()"
   ]
  },
  {
   "cell_type": "markdown",
   "id": "3150a419-cfe4-44d0-9587-a823173e0161",
   "metadata": {},
   "source": [
    "## Q4. Find the standard deviation for the given data: [178,177,176,177,178.2,178,175,179,180,175,178.9,176.2,177,172.5,178,176.5]"
   ]
  },
  {
   "cell_type": "code",
   "execution_count": 20,
   "id": "36123fb8-d5e3-4d7c-b5bc-d5bd148184b6",
   "metadata": {},
   "outputs": [
    {
     "data": {
      "text/html": [
       "<div>\n",
       "<style scoped>\n",
       "    .dataframe tbody tr th:only-of-type {\n",
       "        vertical-align: middle;\n",
       "    }\n",
       "\n",
       "    .dataframe tbody tr th {\n",
       "        vertical-align: top;\n",
       "    }\n",
       "\n",
       "    .dataframe thead th {\n",
       "        text-align: right;\n",
       "    }\n",
       "</style>\n",
       "<table border=\"1\" class=\"dataframe\">\n",
       "  <thead>\n",
       "    <tr style=\"text-align: right;\">\n",
       "      <th></th>\n",
       "      <th>0</th>\n",
       "    </tr>\n",
       "  </thead>\n",
       "  <tbody>\n",
       "    <tr>\n",
       "      <th>0</th>\n",
       "      <td>178.0</td>\n",
       "    </tr>\n",
       "    <tr>\n",
       "      <th>1</th>\n",
       "      <td>177.0</td>\n",
       "    </tr>\n",
       "    <tr>\n",
       "      <th>2</th>\n",
       "      <td>176.0</td>\n",
       "    </tr>\n",
       "    <tr>\n",
       "      <th>3</th>\n",
       "      <td>177.0</td>\n",
       "    </tr>\n",
       "    <tr>\n",
       "      <th>4</th>\n",
       "      <td>178.2</td>\n",
       "    </tr>\n",
       "    <tr>\n",
       "      <th>5</th>\n",
       "      <td>178.0</td>\n",
       "    </tr>\n",
       "    <tr>\n",
       "      <th>6</th>\n",
       "      <td>175.0</td>\n",
       "    </tr>\n",
       "    <tr>\n",
       "      <th>7</th>\n",
       "      <td>179.0</td>\n",
       "    </tr>\n",
       "    <tr>\n",
       "      <th>8</th>\n",
       "      <td>180.0</td>\n",
       "    </tr>\n",
       "    <tr>\n",
       "      <th>9</th>\n",
       "      <td>175.0</td>\n",
       "    </tr>\n",
       "    <tr>\n",
       "      <th>10</th>\n",
       "      <td>178.9</td>\n",
       "    </tr>\n",
       "    <tr>\n",
       "      <th>11</th>\n",
       "      <td>176.2</td>\n",
       "    </tr>\n",
       "    <tr>\n",
       "      <th>12</th>\n",
       "      <td>177.0</td>\n",
       "    </tr>\n",
       "    <tr>\n",
       "      <th>13</th>\n",
       "      <td>172.5</td>\n",
       "    </tr>\n",
       "    <tr>\n",
       "      <th>14</th>\n",
       "      <td>178.0</td>\n",
       "    </tr>\n",
       "    <tr>\n",
       "      <th>15</th>\n",
       "      <td>176.5</td>\n",
       "    </tr>\n",
       "  </tbody>\n",
       "</table>\n",
       "</div>"
      ],
      "text/plain": [
       "        0\n",
       "0   178.0\n",
       "1   177.0\n",
       "2   176.0\n",
       "3   177.0\n",
       "4   178.2\n",
       "5   178.0\n",
       "6   175.0\n",
       "7   179.0\n",
       "8   180.0\n",
       "9   175.0\n",
       "10  178.9\n",
       "11  176.2\n",
       "12  177.0\n",
       "13  172.5\n",
       "14  178.0\n",
       "15  176.5"
      ]
     },
     "execution_count": 20,
     "metadata": {},
     "output_type": "execute_result"
    }
   ],
   "source": [
    "data"
   ]
  },
  {
   "cell_type": "code",
   "execution_count": 19,
   "id": "2f342c47-db0b-4402-8ccc-bb214818372f",
   "metadata": {},
   "outputs": [
    {
     "data": {
      "text/plain": [
       "0    1.847239\n",
       "dtype: float64"
      ]
     },
     "execution_count": 19,
     "metadata": {},
     "output_type": "execute_result"
    }
   ],
   "source": [
    "data.std()"
   ]
  },
  {
   "cell_type": "markdown",
   "id": "09dea93f-e1d9-41dc-8ddf-a7ad79989efa",
   "metadata": {},
   "source": [
    "## Q5. How are measures of dispersion such as range, variance, and standard deviation used to describe the spread of a dataset? Provide an example."
   ]
  },
  {
   "cell_type": "markdown",
   "id": "45b6aa91-ae75-498e-9eac-77c77508d808",
   "metadata": {},
   "source": [
    "#### Range: The range is the simplest measure of dispersion and represents the difference between the maximum and minimum values in a dataset. It gives an idea of the spread of the entire dataset. However, it is sensitive to outliers and does not consider the distribution of values between the minimum and maximum.\n",
    "\n",
    "#### Example: Consider a dataset of exam scores: [65, 72, 68, 90, 85]. The range is calculated as the difference between the maximum and minimum values: Range = 90 - 65 = 25. The range indicates that the scores vary by 25 points."
   ]
  },
  {
   "cell_type": "code",
   "execution_count": 21,
   "id": "d7c9c41f-5b5d-46bd-b325-e29902cf8dc4",
   "metadata": {},
   "outputs": [
    {
     "data": {
      "text/plain": [
       "25"
      ]
     },
     "execution_count": 21,
     "metadata": {},
     "output_type": "execute_result"
    }
   ],
   "source": [
    "import numpy as np\n",
    "\n",
    "dataset = np.array([65, 72, 68, 90, 85])\n",
    "\n",
    "# Range\n",
    "np.max(dataset) - np.min(dataset)"
   ]
  },
  {
   "cell_type": "markdown",
   "id": "c7b84144-0eed-42b3-9410-a03781557e22",
   "metadata": {},
   "source": [
    "#### Variance: Variance measures the average squared deviation of each data point from the mean. It quantifies the spread of the data by taking into account the differences between each value and the mean. A higher variance indicates a greater spread, while a lower variance indicates less dispersion.\n",
    "\n",
    "#### Example: Using the same exam scores dataset, the variance can be calculated. Let's assume the mean score is 76. The squared differences from the mean are: [121, 16, 64, 196, 81]. The variance is the average of these squared differences: Variance = (121 + 16 + 64 + 196 + 81) / 5 = 95.6. A higher variance suggests more variability in the scores."
   ]
  },
  {
   "cell_type": "code",
   "execution_count": 23,
   "id": "1a2ef11c-e808-4c63-82b4-b30e8a5e28b4",
   "metadata": {},
   "outputs": [
    {
     "data": {
      "text/plain": [
       "95.6"
      ]
     },
     "execution_count": 23,
     "metadata": {},
     "output_type": "execute_result"
    }
   ],
   "source": [
    "np.var(dataset)"
   ]
  },
  {
   "cell_type": "markdown",
   "id": "baca89ac-3906-46a2-b506-4b1c3404fb52",
   "metadata": {},
   "source": [
    "#### Standard Deviation: The standard deviation is the square root of the variance. It provides a measure of dispersion that is in the same units as the original data. A higher standard deviation indicates a wider spread, while a lower standard deviation suggests a more clustered distribution of values around the mean.\n",
    "\n",
    "#### Example: Continuing with the exam scores dataset, the standard deviation can be calculated as the square root of the variance. Standard Deviation = √95.6 ≈ 9.78. The standard deviation tells us that the scores are, on average, about 9.78 points away from the mean."
   ]
  },
  {
   "cell_type": "code",
   "execution_count": 24,
   "id": "b00aca9c-dd3b-400b-98bf-7ed6ed60cfba",
   "metadata": {},
   "outputs": [
    {
     "data": {
      "text/plain": [
       "9.777525249264253"
      ]
     },
     "execution_count": 24,
     "metadata": {},
     "output_type": "execute_result"
    }
   ],
   "source": [
    "np.std(dataset)"
   ]
  },
  {
   "cell_type": "markdown",
   "id": "e943b011-b8cd-4db6-8a75-a1ee4b68f3e0",
   "metadata": {},
   "source": [
    "## Q6. What is a Venn diagram?\n",
    "\n",
    "#### A Venn diagram is a graphical representation of the relationships between different sets of items. It uses overlapping circles or other shapes to visualize the commonalities and differences among the sets. Each circle represents a set, and the overlapping regions show the intersection of those sets."
   ]
  },
  {
   "cell_type": "markdown",
   "id": "6df25222-67ba-40ce-83e0-cc777b70aace",
   "metadata": {},
   "source": [
    "## Q7. For the two given sets A = (2,3,4,5,6,7) & B = (0,2,6,8,10). Find:\n",
    "### (i) A ∩ B\n",
    "\n",
    "### (ii) A ⋃ B"
   ]
  },
  {
   "cell_type": "code",
   "execution_count": 25,
   "id": "2799c3c5-0614-4e82-8121-34a52aa6a48f",
   "metadata": {},
   "outputs": [
    {
     "data": {
      "text/plain": [
       "{2, 6}"
      ]
     },
     "execution_count": 25,
     "metadata": {},
     "output_type": "execute_result"
    }
   ],
   "source": [
    "#(i) A ∩ B\n",
    "\n",
    "A = {2, 3, 4, 5, 6, 7}\n",
    "B = {0, 2, 6, 8, 10}\n",
    "\n",
    "A.intersection(B)"
   ]
  },
  {
   "cell_type": "code",
   "execution_count": 26,
   "id": "07bc0854-0521-4502-aca9-d834c6a6909a",
   "metadata": {},
   "outputs": [
    {
     "data": {
      "text/plain": [
       "{0, 2, 3, 4, 5, 6, 7, 8, 10}"
      ]
     },
     "execution_count": 26,
     "metadata": {},
     "output_type": "execute_result"
    }
   ],
   "source": [
    "#(ii) A ⋃ B\n",
    "\n",
    "A.union(B)"
   ]
  },
  {
   "cell_type": "markdown",
   "id": "2d542e86-3efa-48f7-85c3-420577f27bf4",
   "metadata": {},
   "source": [
    "## Q8. What do you understand about skewness in data?\n",
    "\n",
    "#### Skewness in data is a measure that describes the asymmetry or lack of symmetry in the distribution of values in a dataset. It quantifies the degree to which a dataset's distribution deviates from a perfectly symmetrical distribution.\n",
    "\n",
    "#### Skewness is typically measured in terms of the tail of the distribution. It indicates whether the tail of the distribution is longer or shorter in one direction compared to the other. Skewness can have three possible outcomes:\n",
    "\n",
    "#### Positive Skewness: It occurs when the tail of the distribution extends towards the right side.\n",
    "#### Negative Skewness: It occurs when the tail of the distribution extends towards the left side.\n",
    "#### Zero Skewness: A dataset is considered to have zero skewness when it exhibits perfect symmetry. "
   ]
  },
  {
   "cell_type": "markdown",
   "id": "e2734e74-61cd-4139-8b84-ab6c51ff4e81",
   "metadata": {},
   "source": [
    "## Q9. If a data is right skewed then what will be the position of median with respect to mean?\n",
    "\n",
    "#### In a right-skewed, the median will be positioned to the left of the mean. "
   ]
  },
  {
   "cell_type": "markdown",
   "id": "6f89ff76-363d-4334-b4d8-0b309e31f3fa",
   "metadata": {},
   "source": [
    "## Q10. Explain the difference between covariance and correlation. How are these measures used in  statistical analysis?\n",
    "\n",
    "### Covariance: Covariance measures the extent to which two variables vary together. It indicates the direction (positive or negative) of the relationship and the magnitude of the linear association between variables.\n",
    "#### > A positive covariance indicates a positive relationship, meaning that when one variable increases, the other tends to increase as well.\n",
    "#### > A negative covariance indicates a negative relationship, meaning that when one variable increases, the other tends to decrease."
   ]
  },
  {
   "cell_type": "code",
   "execution_count": 27,
   "id": "d6076489-3e32-4ad9-92ee-dccc5422f0af",
   "metadata": {},
   "outputs": [],
   "source": [
    "import seaborn as sns"
   ]
  },
  {
   "cell_type": "code",
   "execution_count": 28,
   "id": "0648034b-a92b-4b5a-b8db-c028a1e226e1",
   "metadata": {},
   "outputs": [
    {
     "data": {
      "text/html": [
       "<div>\n",
       "<style scoped>\n",
       "    .dataframe tbody tr th:only-of-type {\n",
       "        vertical-align: middle;\n",
       "    }\n",
       "\n",
       "    .dataframe tbody tr th {\n",
       "        vertical-align: top;\n",
       "    }\n",
       "\n",
       "    .dataframe thead th {\n",
       "        text-align: right;\n",
       "    }\n",
       "</style>\n",
       "<table border=\"1\" class=\"dataframe\">\n",
       "  <thead>\n",
       "    <tr style=\"text-align: right;\">\n",
       "      <th></th>\n",
       "      <th>Year</th>\n",
       "      <th>Country</th>\n",
       "      <th>Spending_USD</th>\n",
       "      <th>Life_Expectancy</th>\n",
       "    </tr>\n",
       "  </thead>\n",
       "  <tbody>\n",
       "    <tr>\n",
       "      <th>0</th>\n",
       "      <td>1970</td>\n",
       "      <td>Germany</td>\n",
       "      <td>252.311</td>\n",
       "      <td>70.6</td>\n",
       "    </tr>\n",
       "    <tr>\n",
       "      <th>1</th>\n",
       "      <td>1970</td>\n",
       "      <td>France</td>\n",
       "      <td>192.143</td>\n",
       "      <td>72.2</td>\n",
       "    </tr>\n",
       "    <tr>\n",
       "      <th>2</th>\n",
       "      <td>1970</td>\n",
       "      <td>Great Britain</td>\n",
       "      <td>123.993</td>\n",
       "      <td>71.9</td>\n",
       "    </tr>\n",
       "    <tr>\n",
       "      <th>3</th>\n",
       "      <td>1970</td>\n",
       "      <td>Japan</td>\n",
       "      <td>150.437</td>\n",
       "      <td>72.0</td>\n",
       "    </tr>\n",
       "    <tr>\n",
       "      <th>4</th>\n",
       "      <td>1970</td>\n",
       "      <td>USA</td>\n",
       "      <td>326.961</td>\n",
       "      <td>70.9</td>\n",
       "    </tr>\n",
       "  </tbody>\n",
       "</table>\n",
       "</div>"
      ],
      "text/plain": [
       "   Year        Country  Spending_USD  Life_Expectancy\n",
       "0  1970        Germany       252.311             70.6\n",
       "1  1970         France       192.143             72.2\n",
       "2  1970  Great Britain       123.993             71.9\n",
       "3  1970          Japan       150.437             72.0\n",
       "4  1970            USA       326.961             70.9"
      ]
     },
     "execution_count": 28,
     "metadata": {},
     "output_type": "execute_result"
    }
   ],
   "source": [
    "df = sns.load_dataset('healthexp')\n",
    "df.head()"
   ]
  },
  {
   "cell_type": "code",
   "execution_count": 29,
   "id": "acfd306d-32de-4d26-83b1-6d1a152334df",
   "metadata": {},
   "outputs": [
    {
     "name": "stderr",
     "output_type": "stream",
     "text": [
      "/tmp/ipykernel_77/1545644723.py:1: FutureWarning: The default value of numeric_only in DataFrame.cov is deprecated. In a future version, it will default to False. Select only valid columns or specify the value of numeric_only to silence this warning.\n",
      "  df.cov()\n"
     ]
    },
    {
     "data": {
      "text/html": [
       "<div>\n",
       "<style scoped>\n",
       "    .dataframe tbody tr th:only-of-type {\n",
       "        vertical-align: middle;\n",
       "    }\n",
       "\n",
       "    .dataframe tbody tr th {\n",
       "        vertical-align: top;\n",
       "    }\n",
       "\n",
       "    .dataframe thead th {\n",
       "        text-align: right;\n",
       "    }\n",
       "</style>\n",
       "<table border=\"1\" class=\"dataframe\">\n",
       "  <thead>\n",
       "    <tr style=\"text-align: right;\">\n",
       "      <th></th>\n",
       "      <th>Year</th>\n",
       "      <th>Spending_USD</th>\n",
       "      <th>Life_Expectancy</th>\n",
       "    </tr>\n",
       "  </thead>\n",
       "  <tbody>\n",
       "    <tr>\n",
       "      <th>Year</th>\n",
       "      <td>201.098848</td>\n",
       "      <td>2.571883e+04</td>\n",
       "      <td>41.915454</td>\n",
       "    </tr>\n",
       "    <tr>\n",
       "      <th>Spending_USD</th>\n",
       "      <td>25718.827373</td>\n",
       "      <td>4.817761e+06</td>\n",
       "      <td>4166.800912</td>\n",
       "    </tr>\n",
       "    <tr>\n",
       "      <th>Life_Expectancy</th>\n",
       "      <td>41.915454</td>\n",
       "      <td>4.166801e+03</td>\n",
       "      <td>10.733902</td>\n",
       "    </tr>\n",
       "  </tbody>\n",
       "</table>\n",
       "</div>"
      ],
      "text/plain": [
       "                         Year  Spending_USD  Life_Expectancy\n",
       "Year               201.098848  2.571883e+04        41.915454\n",
       "Spending_USD     25718.827373  4.817761e+06      4166.800912\n",
       "Life_Expectancy     41.915454  4.166801e+03        10.733902"
      ]
     },
     "execution_count": 29,
     "metadata": {},
     "output_type": "execute_result"
    }
   ],
   "source": [
    "df.cov()"
   ]
  },
  {
   "cell_type": "markdown",
   "id": "1d5937e3-52a0-40e0-9bc8-0f94aadc3d16",
   "metadata": {},
   "source": [
    "### Correlation: Correlation, on the other hand, measures the strength and direction of the linear relationship between two variables. Unlike covariance, correlation is a standardized measure that ranges between -1 and +1, making it easier to interpret and compare across datasets. \n",
    "\n",
    "#### > A correlation coefficient of +1 indicates a perfect positive linear relationship, where both variables increase together.\n",
    "#### > A correlation coefficient of -1 indicates a perfect negative linear relationship, where one variable increases while the other decreases.\n",
    "#### > A correlation coefficient of 0 indicates no linear relationship between the variables."
   ]
  },
  {
   "cell_type": "code",
   "execution_count": 30,
   "id": "28fa4a20-0b85-4708-a57c-e2e259c46f22",
   "metadata": {},
   "outputs": [
    {
     "name": "stderr",
     "output_type": "stream",
     "text": [
      "/tmp/ipykernel_77/1134722465.py:1: FutureWarning: The default value of numeric_only in DataFrame.corr is deprecated. In a future version, it will default to False. Select only valid columns or specify the value of numeric_only to silence this warning.\n",
      "  df.corr()\n"
     ]
    },
    {
     "data": {
      "text/html": [
       "<div>\n",
       "<style scoped>\n",
       "    .dataframe tbody tr th:only-of-type {\n",
       "        vertical-align: middle;\n",
       "    }\n",
       "\n",
       "    .dataframe tbody tr th {\n",
       "        vertical-align: top;\n",
       "    }\n",
       "\n",
       "    .dataframe thead th {\n",
       "        text-align: right;\n",
       "    }\n",
       "</style>\n",
       "<table border=\"1\" class=\"dataframe\">\n",
       "  <thead>\n",
       "    <tr style=\"text-align: right;\">\n",
       "      <th></th>\n",
       "      <th>Year</th>\n",
       "      <th>Spending_USD</th>\n",
       "      <th>Life_Expectancy</th>\n",
       "    </tr>\n",
       "  </thead>\n",
       "  <tbody>\n",
       "    <tr>\n",
       "      <th>Year</th>\n",
       "      <td>1.000000</td>\n",
       "      <td>0.826273</td>\n",
       "      <td>0.902175</td>\n",
       "    </tr>\n",
       "    <tr>\n",
       "      <th>Spending_USD</th>\n",
       "      <td>0.826273</td>\n",
       "      <td>1.000000</td>\n",
       "      <td>0.579430</td>\n",
       "    </tr>\n",
       "    <tr>\n",
       "      <th>Life_Expectancy</th>\n",
       "      <td>0.902175</td>\n",
       "      <td>0.579430</td>\n",
       "      <td>1.000000</td>\n",
       "    </tr>\n",
       "  </tbody>\n",
       "</table>\n",
       "</div>"
      ],
      "text/plain": [
       "                     Year  Spending_USD  Life_Expectancy\n",
       "Year             1.000000      0.826273         0.902175\n",
       "Spending_USD     0.826273      1.000000         0.579430\n",
       "Life_Expectancy  0.902175      0.579430         1.000000"
      ]
     },
     "execution_count": 30,
     "metadata": {},
     "output_type": "execute_result"
    }
   ],
   "source": [
    "df.corr()"
   ]
  },
  {
   "cell_type": "markdown",
   "id": "f51c4ceb-325b-497c-a82b-ad9cbe673c3f",
   "metadata": {},
   "source": [
    "## Q11. What is the formula for calculating the sample mean? Provide an example calculation for a dataset.\n",
    "\n",
    "### Sample Mean = (Sum of all the values in the dataset) / (Number of values in the dataset)\n",
    "\n",
    "#### Let's take an example calculation for a dataset:\n",
    "#### Dataset: [12, 15, 18, 20, 22]\n",
    "#### Sample Mean = (12 + 15 + 18 + 20 + 22) / 5\n",
    "#### Sample Mean = 17.4"
   ]
  },
  {
   "cell_type": "markdown",
   "id": "ddd6ce0b-9c62-405f-9ec9-98bde0d5f20f",
   "metadata": {},
   "source": [
    "## Q12. For a normal distribution data what is the relationship between its measure of central tendency?\n",
    "\n",
    "#### Mean: The mean, also known as the average, is the measure of central tendency that represents the balancing point of the distribution. In a normal distribution, the mean is located at the exact center of the distribution, and it is equal to the median and mode. Therefore, for a normal distribution, the mean, median, and mode are all equal.\n",
    "\n",
    "#### Median: The median is the middle value in the distribution when the values are arranged in ascending or descending order. In a normal distribution, the median is also equal to the mean and mode. This is because the normal distribution is symmetric, with an equal number of values on both sides of the center. As a result, the middle value is the same as the mean and mode.\n",
    "\n",
    "#### Mode: The mode represents the values in the distribution that occur with the highest frequency. In a normal distribution, there is a single peak, and the data is symmetrically distributed around the mean. Therefore, the mode is equal to the mean and median."
   ]
  },
  {
   "cell_type": "markdown",
   "id": "c1391230-6f33-4d02-be7f-fa5587a979e7",
   "metadata": {},
   "source": [
    "## Q13. How is covariance different from correlation?"
   ]
  },
  {
   "cell_type": "markdown",
   "id": "36e02af7-f62e-41d9-a4e6-6e657334df04",
   "metadata": {},
   "source": [
    "#### Covariance: Covariance measures the extent to which two variables vary together. It assesses the direction (positive or negative) and magnitude of the linear relationship between variables. Covariance can take any value, positive or negative.\n",
    "#### Correlation: Correlation measures the strength and direction of the linear relationship between two variables. It is a standardized measure that ranges between -1 and +1, indicating the strength and direction of the linear association."
   ]
  },
  {
   "cell_type": "markdown",
   "id": "35947d0e-509e-4d20-946a-5ea10eccbc0d",
   "metadata": {},
   "source": [
    "## Q14. How do outliers affect measures of central tendency and dispersion? Provide an example.\n",
    "\n",
    "### Measures of Central Tendency: Outliers can heavily influence measures of central tendency such as the mean, median, and mode:\n",
    "#### Mean: The mean is sensitive to extreme values, including outliers. A single extreme value can significantly shift the mean towards that value, distorting the measure of central tendency.\n",
    "#### Median: The median is less affected by outliers compared to the mean. It represents the middle value in a dataset and is less influenced by extreme values.\n",
    "#### Mode: The mode is generally not affected by outliers since it represents the most frequently occurring value(s). Outliers have a minimal impact on the mode unless they occur frequently."
   ]
  },
  {
   "cell_type": "markdown",
   "id": "6b3b7c4b-f216-4c0e-840a-748ea91eb723",
   "metadata": {},
   "source": [
    "### Measures of Dispersion: Outliers can also impact measures of dispersion, such as the range, variance, and standard deviation:\n",
    "#### Range: Outliers, particularly those located at the extremes of the dataset, can substantially expand the range, leading to an overestimated measure of dispersion.\n",
    "#### Variance: Outliers have a notable effect on the variance since it incorporates the squared differences between values and the mean. Outliers with large deviations can significantly increase the variance.\n",
    "#### Standard Deviation: Similar to the variance, the standard deviation is influenced by outliers. It measures the dispersion around the mean, and outliers can contribute to a larger standard deviation."
   ]
  },
  {
   "cell_type": "code",
   "execution_count": null,
   "id": "37a2cb22-47d0-4bb8-8d82-bba0964fb644",
   "metadata": {},
   "outputs": [],
   "source": []
  }
 ],
 "metadata": {
  "kernelspec": {
   "display_name": "Python 3 (ipykernel)",
   "language": "python",
   "name": "python3"
  },
  "language_info": {
   "codemirror_mode": {
    "name": "ipython",
    "version": 3
   },
   "file_extension": ".py",
   "mimetype": "text/x-python",
   "name": "python",
   "nbconvert_exporter": "python",
   "pygments_lexer": "ipython3",
   "version": "3.10.8"
  }
 },
 "nbformat": 4,
 "nbformat_minor": 5
}
